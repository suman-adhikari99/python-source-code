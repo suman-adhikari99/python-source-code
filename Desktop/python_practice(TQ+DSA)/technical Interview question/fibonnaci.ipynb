{
 "cells": [
  {
   "cell_type": "code",
   "execution_count": null,
   "metadata": {},
   "outputs": [],
   "source": [
    "#fibonanaci series\n",
    "# find the fibonacci series from 0 to nth number using while loop\n",
    "\n",
    "def fibonnaci(n):\n",
    "    a,b=0,1\n",
    "    while(b<n):\n",
    "        print(b)\n",
    "        a,b=b,a+b"
   ]
  },
  {
   "cell_type": "code",
   "execution_count": null,
   "metadata": {},
   "outputs": [],
   "source": [
    "def fibonacci(n):\n",
    "    if n<=1:\n",
    "        return n\n",
    "    else:\n",
    "        return(fibonacci(n-1)+fibonacci(n-2))\n",
    "\n",
    "n=10\n",
    "if n<=0:\n",
    "    print(\"invalid\")\n",
    "\n",
    "else:\n",
    "    for i in range(n):\n",
    "        print(fibonacci(i))"
   ]
  }
 ],
 "metadata": {
  "kernelspec": {
   "display_name": "Python 3.9.5 64-bit",
   "language": "python",
   "name": "python3"
  },
  "language_info": {
   "name": "python",
   "version": "3.9.5"
  },
  "orig_nbformat": 4,
  "vscode": {
   "interpreter": {
    "hash": "916dbcbb3f70747c44a77c7bcd40155683ae19c65e1c03b4aa3499c5328201f1"
   }
  }
 },
 "nbformat": 4,
 "nbformat_minor": 2
}
