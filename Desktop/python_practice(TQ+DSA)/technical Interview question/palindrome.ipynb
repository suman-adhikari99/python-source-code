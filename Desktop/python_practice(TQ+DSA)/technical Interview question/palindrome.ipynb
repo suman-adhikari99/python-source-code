{
 "cells": [
  {
   "cell_type": "code",
   "execution_count": null,
   "metadata": {},
   "outputs": [
    {
     "ename": "",
     "evalue": "",
     "output_type": "error",
     "traceback": [
      "\u001b[1;31mFailed to start the Kernel. \n",
      "\u001b[1;31mERROR: No matching distribution found for jupyter. \n",
      "View Jupyter <a href='command:jupyter.viewOutput'>log</a> for further details."
     ]
    }
   ],
   "source": [
    "#pallindrome of string#pallindrome of string\n",
    "#pallindrome vaneko original string ra tesko reverse string equal hunu parx \n",
    "# e.g \"nitin\"=reverse(\"nitin\") is palindrome\n",
    "def palindrome(input):\n",
    "    reverse_ip=input[::-1]\n",
    "    if input==reverse_ip:\n",
    "        print(\"{} is palindrome\".format(input))\n",
    "    else:\n",
    "        print(\"{} is not palindrome\".format(input))\n",
    "palindrome(\"nitin\")\n",
    "palindrome(\"suman\")"
   ]
  },
  {
   "cell_type": "code",
   "execution_count": null,
   "metadata": {},
   "outputs": [],
   "source": [
    "#palindrome of string using for loop\n",
    "#pallindrome of string\n",
    "#pallindrome vaneko original string ra tesko reverse string equal hunu parx \n",
    "# e.g \"nitin\"=reverse(\"nitin\") is palindrome\n",
    "def palindrome(input):\n",
    "    length=len(input)\n",
    "    for i in range(length-1):\n",
    "        temp=\"\"\n",
    "        if input[i]==input[length-1]:\n",
    "            temp=input[i]\n",
    "        else:\n",
    "            print(\"no! not a palindrome\")"
   ]
  },
  {
   "cell_type": "markdown",
   "metadata": {},
   "source": [
    "#palindrome of number\n",
    "\n",
    "def palindrom_of_number(input):\n",
    "    temp=input\n",
    "    reverse_of_input=0\n",
    "    while(temp>0):\n",
    "        digit=temp%10\n",
    "        reverse_of_input=reverse_of_input*10+digit\n",
    "        temp=temp//10\n",
    "    if input==reverse_of_input:\n",
    "        return True\n",
    "\n",
    "    return False\n",
    "\n",
    "print(palindrom_of_number(121))\n",
    "print(palindrom_of_number(1223432))"
   ]
  }
 ],
 "metadata": {
  "kernelspec": {
   "display_name": "Python 3.9.5 64-bit",
   "language": "python",
   "name": "python3"
  },
  "language_info": {
   "name": "python",
   "version": "3.9.5"
  },
  "orig_nbformat": 4,
  "vscode": {
   "interpreter": {
    "hash": "916dbcbb3f70747c44a77c7bcd40155683ae19c65e1c03b4aa3499c5328201f1"
   }
  }
 },
 "nbformat": 4,
 "nbformat_minor": 2
}
